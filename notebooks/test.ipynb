{
 "cells": [
  {
   "cell_type": "code",
   "id": "initial_id",
   "metadata": {
    "collapsed": true,
    "ExecuteTime": {
     "end_time": "2025-10-07T22:25:10.938584Z",
     "start_time": "2025-10-07T22:25:10.931826Z"
    }
   },
   "source": [
    "import pandas as pd\n",
    "from app.envs.trading_env import StockTradingEnv"
   ],
   "outputs": [],
   "execution_count": 9
  },
  {
   "metadata": {
    "ExecuteTime": {
     "end_time": "2025-10-07T22:25:12.038052Z",
     "start_time": "2025-10-07T22:25:11.990148Z"
    }
   },
   "cell_type": "code",
   "source": [
    "# Load dataset\n",
    "df = pd.read_csv(\"../data/processed/final_dataset.csv\")"
   ],
   "id": "f89c096a7924f50a",
   "outputs": [],
   "execution_count": 10
  },
  {
   "metadata": {
    "ExecuteTime": {
     "end_time": "2025-10-07T22:25:13.376655Z",
     "start_time": "2025-10-07T22:25:13.333359Z"
    }
   },
   "cell_type": "code",
   "source": [
    "# Pick one stock that exists\n",
    "ticker = df[\"Ticker\"].unique()[0]\n",
    "print(\"Using ticker:\", ticker)\n",
    "\n",
    "df = df[df[\"Ticker\"] == ticker].reset_index(drop=True)\n",
    "print(\"Data rows:\", len(df))\n",
    "\n",
    "env = StockTradingEnv(df)\n",
    "\n",
    "obs, _ = env.reset()\n",
    "print(\"Initial observation:\", obs)\n",
    "\n",
    "for step in range(5):\n",
    "    action = env.action_space.sample()\n",
    "    obs, reward, done, _, _ = env.step(action)\n",
    "    print(f\"\\nStep {step + 1}\")\n",
    "    print(f\"Action: {action}\")\n",
    "    print(f\"Reward: {reward:.2f}\")\n",
    "    env.render()"
   ],
   "id": "1edb8efc0c5ca4f3",
   "outputs": [
    {
     "name": "stdout",
     "output_type": "stream",
     "text": [
      "Using ticker: AADR\n",
      "Data rows: 1617\n",
      "Initial observation: [5.471e+01 0.000e+00 0.000e+00 1.000e+00 0.000e+00 1.000e+04 0.000e+00]\n",
      "\n",
      "Step 1\n",
      "Action: 2\n",
      "Reward: 0.00\n",
      "Step: 1, Net Worth: 10000.00, Balance: 10000.00, Shares: 0\n",
      "\n",
      "Step 2\n",
      "Action: 1\n",
      "Reward: 0.00\n",
      "Step: 2, Net Worth: 10000.00, Balance: 15.52, Shares: 183.0\n",
      "\n",
      "Step 3\n",
      "Action: 2\n",
      "Reward: 483.12\n",
      "Step: 3, Net Worth: 10483.12, Balance: 10483.12, Shares: 0\n",
      "\n",
      "Step 4\n",
      "Action: 1\n",
      "Reward: 0.00\n",
      "Step: 4, Net Worth: 10483.12, Balance: 57.52, Shares: 180.0\n",
      "\n",
      "Step 5\n",
      "Action: 2\n",
      "Reward: 55.80\n",
      "Step: 5, Net Worth: 10538.92, Balance: 10538.92, Shares: 0\n"
     ]
    }
   ],
   "execution_count": 11
  },
  {
   "metadata": {},
   "cell_type": "code",
   "outputs": [],
   "execution_count": null,
   "source": "",
   "id": "3da61d1d21f16b74"
  }
 ],
 "metadata": {
  "kernelspec": {
   "display_name": "Python 3",
   "language": "python",
   "name": "python3"
  },
  "language_info": {
   "codemirror_mode": {
    "name": "ipython",
    "version": 2
   },
   "file_extension": ".py",
   "mimetype": "text/x-python",
   "name": "python",
   "nbconvert_exporter": "python",
   "pygments_lexer": "ipython2",
   "version": "2.7.6"
  }
 },
 "nbformat": 4,
 "nbformat_minor": 5
}
