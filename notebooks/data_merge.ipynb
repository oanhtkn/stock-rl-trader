{
 "cells": [
  {
   "cell_type": "code",
   "id": "initial_id",
   "metadata": {
    "collapsed": true,
    "ExecuteTime": {
     "end_time": "2025-10-07T21:04:37.341787Z",
     "start_time": "2025-10-07T21:03:05.741641Z"
    }
   },
   "source": [
    "import pandas as pd\n",
    "from utils.sentiment import get_sentiment_score\n",
    "from utils.indicators import add_technical_indicators"
   ],
   "outputs": [],
   "execution_count": 1
  },
  {
   "metadata": {
    "ExecuteTime": {
     "end_time": "2025-10-07T21:18:14.966554Z",
     "start_time": "2025-10-07T21:18:14.590726Z"
    }
   },
   "cell_type": "code",
   "source": [
    "# Load datasets\n",
    "\n",
    "prices = pd.read_csv(\"../data/raw/stock_prices.csv\")\n",
    "tickers = pd.read_csv(\"../data/raw/full_ticker_names.csv\")\n",
    "\n",
    "print(\"Prices shape:\", prices.shape)\n",
    "print(\"Tickers shape:\", tickers.shape)\n",
    "print(tickers.head())"
   ],
   "id": "34437da557426dcc",
   "outputs": [
    {
     "name": "stdout",
     "output_type": "stream",
     "text": [
      "Prices shape: (2720, 25)\n",
      "Tickers shape: (11133, 2)\n",
      "  Symbol                                      Security Name\n",
      "0   AACG  ATA Creativity Global - American Depositary Sh...\n",
      "1   AADI               Aadi Bioscience, Inc. - Common Stock\n",
      "2   AADR                AdvisorShares Dorsey Wright ADR ETF\n",
      "3    AAL       American Airlines Group, Inc. - Common Stock\n",
      "4   AAME       Atlantic American Corporation - Common Stock\n"
     ]
    }
   ],
   "execution_count": 18
  },
  {
   "metadata": {
    "ExecuteTime": {
     "end_time": "2025-10-07T21:19:11.331238Z",
     "start_time": "2025-10-07T21:19:11.193619Z"
    }
   },
   "cell_type": "code",
   "source": [
    "prices = pd.read_csv(\"../data/raw/stock_prices.csv\", skiprows=2)\n",
    "print(\"First few rows:\")\n",
    "print(prices.head())"
   ],
   "id": "a95d058618f004d9",
   "outputs": [
    {
     "name": "stdout",
     "output_type": "stream",
     "text": [
      "First few rows:\n",
      "         Date  Unnamed: 1  Unnamed: 2  Unnamed: 3  Unnamed: 4  Unnamed: 5  \\\n",
      "0  2014-01-02   37.160000   27.855856   54.709999     0.39650   58.209999   \n",
      "1  2014-01-03   36.910000   27.652653   54.560001     0.39175   58.660000   \n",
      "2  2014-01-06   36.130001   27.960960   57.200001     0.39700   59.000000   \n",
      "3  2014-01-07   36.410000   28.500000   57.919998     0.40350   58.320000   \n",
      "4  2014-01-08   35.759998   28.559309   58.230000     0.40900   58.869999   \n",
      "\n",
      "   Unnamed: 6  Unnamed: 7  Unnamed: 8  Unnamed: 9  ...  Unnamed: 15  \\\n",
      "0       16.10   83.414001   55.252499   91.029999  ...    38.584999   \n",
      "1       16.41   83.081001   55.290001   91.849998  ...    38.474998   \n",
      "2       16.66   82.668999   54.957500   92.330002  ...    38.084999   \n",
      "3       16.50   83.709000   55.377499   94.290001  ...    38.605000   \n",
      "4       16.58   83.683998   55.555000   94.160004  ...    39.014999   \n",
      "\n",
      "   Unnamed: 16  Unnamed: 17  Unnamed: 18  Unnamed: 19  Unnamed: 20  \\\n",
      "0    68.940002          NaN          NaN          NaN         8.31   \n",
      "1    68.980003          NaN          NaN          NaN         8.21   \n",
      "2    69.099998          NaN          NaN          NaN         8.26   \n",
      "3    69.669998          NaN          NaN          NaN         8.22   \n",
      "4    69.779999          NaN          NaN          NaN         7.78   \n",
      "\n",
      "   Unnamed: 21  Unnamed: 22  Unnamed: 23  Unnamed: 24  \n",
      "0    99.750000   124.139999    70.650002    21.062500  \n",
      "1    99.510002   124.349998    70.779999    21.090000  \n",
      "2    99.660004   124.019997    70.309998    21.100000  \n",
      "3   101.070000   125.070000    70.919998    21.254999  \n",
      "4   100.739998   123.290001    70.410004    21.322500  \n",
      "\n",
      "[5 rows x 25 columns]\n"
     ]
    }
   ],
   "execution_count": 19
  },
  {
   "metadata": {
    "ExecuteTime": {
     "end_time": "2025-10-07T21:16:20.157288Z",
     "start_time": "2025-10-07T21:16:20.141928Z"
    }
   },
   "cell_type": "code",
   "source": "print(prices.iloc[:2, :8])",
   "id": "548e3f580a75ff8f",
   "outputs": [
    {
     "name": "stdout",
     "output_type": "stream",
     "text": [
      "         Date  Unnamed: 1  Unnamed: 2  Unnamed: 3  Unnamed: 4  Unnamed: 5  \\\n",
      "0  2014-01-02       37.16   27.855856   54.709999     0.39650   58.209999   \n",
      "1  2014-01-03       36.91   27.652653   54.560001     0.39175   58.660000   \n",
      "\n",
      "   Unnamed: 6  Unnamed: 7  \n",
      "0       16.10   83.414001  \n",
      "1       16.41   83.081001  \n"
     ]
    }
   ],
   "execution_count": 17
  },
  {
   "metadata": {
    "ExecuteTime": {
     "end_time": "2025-10-07T21:22:13.985617Z",
     "start_time": "2025-10-07T21:22:13.963961Z"
    }
   },
   "cell_type": "code",
   "source": [
    "# Select the first 24 stock symbols\n",
    "symbols = tickers['Symbol'].head(24).tolist()\n",
    "print(symbols)"
   ],
   "id": "fa82ab7f20b3704",
   "outputs": [
    {
     "name": "stdout",
     "output_type": "stream",
     "text": [
      "['AACG', 'AADI', 'AADR', 'AAL', 'AAME', 'AAOI', 'AAON', 'AAPB', 'AAPD', 'AAPL', 'AAPU', 'AAXJ', 'ABAT', 'ABCL', 'ABCS', 'ABEO', 'ABL', 'ABLLL', 'ABLLW', 'ABLV', 'ABLVW', 'ABNB', 'ABOS', 'ABSI']\n"
     ]
    }
   ],
   "execution_count": 22
  },
  {
   "metadata": {
    "ExecuteTime": {
     "end_time": "2025-10-07T21:22:18.163428Z",
     "start_time": "2025-10-07T21:22:18.146126Z"
    }
   },
   "cell_type": "code",
   "source": [
    "#Create the mapping\n",
    "col_map = {'Unnamed: 0': 'Date'}\n",
    "\n",
    "# Loop through symbols to rename columns\n",
    "for i, symbol in enumerate(symbols, start=1):\n",
    "    col_map[f'Unnamed: {i}'] = symbol\n",
    "\n",
    "# Apply renaming\n",
    "prices.rename(columns=col_map, inplace=True)\n",
    "\n",
    "print(\"Renamed columns:\")\n",
    "print(prices.columns.tolist())"
   ],
   "id": "5dbce129f1aa8f02",
   "outputs": [
    {
     "name": "stdout",
     "output_type": "stream",
     "text": [
      "Renamed columns:\n",
      "['Date', 'AACG', 'AADI', 'AADR', 'AAL', 'AAME', 'AAOI', 'AAON', 'AAPB', 'AAPD', 'AAPL', 'AAPU', 'AAXJ', 'ABAT', 'ABCL', 'ABCS', 'ABEO', 'ABL', 'ABLLL', 'ABLLW', 'ABLV', 'ABLVW', 'ABNB', 'ABOS', 'ABSI']\n"
     ]
    }
   ],
   "execution_count": 23
  },
  {
   "metadata": {
    "ExecuteTime": {
     "end_time": "2025-10-07T21:22:36.930425Z",
     "start_time": "2025-10-07T21:22:36.650887Z"
    }
   },
   "cell_type": "code",
   "source": [
    "# Reshape data to long format\n",
    "long_prices = prices.melt(\n",
    "    id_vars=[\"Date\"],\n",
    "    var_name=\"Ticker\",\n",
    "    value_name=\"Close\"\n",
    ")\n",
    "\n",
    "# Convert dates and drop missing\n",
    "long_prices[\"Date\"] = pd.to_datetime(long_prices[\"Date\"], errors=\"coerce\")\n",
    "long_prices.dropna(subset=[\"Date\", \"Close\"], inplace=True)\n",
    "\n",
    "print(\"Long-format shape:\", long_prices.shape)\n",
    "long_prices.head()\n"
   ],
   "id": "f9211372449cab76",
   "outputs": [
    {
     "name": "stdout",
     "output_type": "stream",
     "text": [
      "Long-format shape: (59533, 3)\n"
     ]
    },
    {
     "data": {
      "text/plain": [
       "        Date Ticker      Close\n",
       "0 2014-01-02   AACG  37.160000\n",
       "1 2014-01-03   AACG  36.910000\n",
       "2 2014-01-06   AACG  36.130001\n",
       "3 2014-01-07   AACG  36.410000\n",
       "4 2014-01-08   AACG  35.759998"
      ],
      "text/html": [
       "<div>\n",
       "<style scoped>\n",
       "    .dataframe tbody tr th:only-of-type {\n",
       "        vertical-align: middle;\n",
       "    }\n",
       "\n",
       "    .dataframe tbody tr th {\n",
       "        vertical-align: top;\n",
       "    }\n",
       "\n",
       "    .dataframe thead th {\n",
       "        text-align: right;\n",
       "    }\n",
       "</style>\n",
       "<table border=\"1\" class=\"dataframe\">\n",
       "  <thead>\n",
       "    <tr style=\"text-align: right;\">\n",
       "      <th></th>\n",
       "      <th>Date</th>\n",
       "      <th>Ticker</th>\n",
       "      <th>Close</th>\n",
       "    </tr>\n",
       "  </thead>\n",
       "  <tbody>\n",
       "    <tr>\n",
       "      <th>0</th>\n",
       "      <td>2014-01-02</td>\n",
       "      <td>AACG</td>\n",
       "      <td>37.160000</td>\n",
       "    </tr>\n",
       "    <tr>\n",
       "      <th>1</th>\n",
       "      <td>2014-01-03</td>\n",
       "      <td>AACG</td>\n",
       "      <td>36.910000</td>\n",
       "    </tr>\n",
       "    <tr>\n",
       "      <th>2</th>\n",
       "      <td>2014-01-06</td>\n",
       "      <td>AACG</td>\n",
       "      <td>36.130001</td>\n",
       "    </tr>\n",
       "    <tr>\n",
       "      <th>3</th>\n",
       "      <td>2014-01-07</td>\n",
       "      <td>AACG</td>\n",
       "      <td>36.410000</td>\n",
       "    </tr>\n",
       "    <tr>\n",
       "      <th>4</th>\n",
       "      <td>2014-01-08</td>\n",
       "      <td>AACG</td>\n",
       "      <td>35.759998</td>\n",
       "    </tr>\n",
       "  </tbody>\n",
       "</table>\n",
       "</div>"
      ]
     },
     "execution_count": 24,
     "metadata": {},
     "output_type": "execute_result"
    }
   ],
   "execution_count": 24
  },
  {
   "metadata": {
    "ExecuteTime": {
     "end_time": "2025-10-07T21:24:35.010882Z",
     "start_time": "2025-10-07T21:24:34.690650Z"
    }
   },
   "cell_type": "code",
   "source": [
    "#Save clean dataset\n",
    "long_prices.to_csv(\"../data/processed/clean_stock_prices.csv\", index=False)\n",
    "print(\"Saved clean dataset to ../data/raw/clean_stock_prices.csv\")"
   ],
   "id": "31d219fbb38dedbb",
   "outputs": [
    {
     "name": "stdout",
     "output_type": "stream",
     "text": [
      "Saved clean dataset to ../data/raw/clean_stock_prices.csv\n"
     ]
    }
   ],
   "execution_count": 27
  },
  {
   "metadata": {
    "ExecuteTime": {
     "end_time": "2025-10-07T21:25:36.439438Z",
     "start_time": "2025-10-07T21:25:36.290779Z"
    }
   },
   "cell_type": "code",
   "source": [
    "print(long_prices['Ticker'].unique()[:10])  # first 10 tickers\n",
    "print(long_prices.describe())"
   ],
   "id": "e0fa4c35af408299",
   "outputs": [
    {
     "name": "stdout",
     "output_type": "stream",
     "text": [
      "['AACG' 'AADI' 'AADR' 'AAL' 'AAME' 'AAOI' 'AAON' 'AAPB' 'AAPD' 'AAPL']\n",
      "                                Date         Close\n",
      "count                          59533  59533.000000\n",
      "mean   2019-07-22 09:48:32.932323072    105.493065\n",
      "min              2014-01-02 00:00:00      0.384000\n",
      "25%              2016-10-24 00:00:00     40.567501\n",
      "50%              2019-08-20 00:00:00     78.309998\n",
      "75%              2022-05-02 00:00:00    132.229996\n",
      "max              2024-10-18 00:00:00    595.940002\n",
      "std                              NaN     94.158803\n"
     ]
    }
   ],
   "execution_count": 28
  },
  {
   "metadata": {
    "ExecuteTime": {
     "end_time": "2025-10-07T21:28:47.015081Z",
     "start_time": "2025-10-07T21:28:35.179342Z"
    }
   },
   "cell_type": "code",
   "source": [
    "#Extract sentiment scores from financial news dataset\n",
    "news = pd.read_csv(\"../data/raw/raw_partner_headlines.csv\")\n",
    "\n",
    "print(\"News shape:\", news.shape)\n",
    "print(\"Columns:\", news.columns.tolist())\n",
    "news.head(3)"
   ],
   "id": "b37b73c72a31cc6b",
   "outputs": [
    {
     "name": "stdout",
     "output_type": "stream",
     "text": [
      "News shape: (1845559, 6)\n",
      "Columns: ['Unnamed: 0', 'headline', 'url', 'publisher', 'date', 'stock']\n"
     ]
    },
    {
     "data": {
      "text/plain": [
       "   Unnamed: 0                                           headline  \\\n",
       "0           2  Agilent Technologies Announces Pricing of $5……...   \n",
       "1           3  Agilent (A) Gears Up for Q2 Earnings: What's i...   \n",
       "2           4  J.P. Morgan Asset Management Announces Liquida...   \n",
       "\n",
       "                                                 url  publisher  \\\n",
       "0  http://www.gurufocus.com/news/1153187/agilent-...  GuruFocus   \n",
       "1  http://www.zacks.com/stock/news/931205/agilent...      Zacks   \n",
       "2  http://www.gurufocus.com/news/1138923/jp-morga...  GuruFocus   \n",
       "\n",
       "                  date stock  \n",
       "0  2020-06-01 00:00:00     A  \n",
       "1  2020-05-18 00:00:00     A  \n",
       "2  2020-05-15 00:00:00     A  "
      ],
      "text/html": [
       "<div>\n",
       "<style scoped>\n",
       "    .dataframe tbody tr th:only-of-type {\n",
       "        vertical-align: middle;\n",
       "    }\n",
       "\n",
       "    .dataframe tbody tr th {\n",
       "        vertical-align: top;\n",
       "    }\n",
       "\n",
       "    .dataframe thead th {\n",
       "        text-align: right;\n",
       "    }\n",
       "</style>\n",
       "<table border=\"1\" class=\"dataframe\">\n",
       "  <thead>\n",
       "    <tr style=\"text-align: right;\">\n",
       "      <th></th>\n",
       "      <th>Unnamed: 0</th>\n",
       "      <th>headline</th>\n",
       "      <th>url</th>\n",
       "      <th>publisher</th>\n",
       "      <th>date</th>\n",
       "      <th>stock</th>\n",
       "    </tr>\n",
       "  </thead>\n",
       "  <tbody>\n",
       "    <tr>\n",
       "      <th>0</th>\n",
       "      <td>2</td>\n",
       "      <td>Agilent Technologies Announces Pricing of $5……...</td>\n",
       "      <td>http://www.gurufocus.com/news/1153187/agilent-...</td>\n",
       "      <td>GuruFocus</td>\n",
       "      <td>2020-06-01 00:00:00</td>\n",
       "      <td>A</td>\n",
       "    </tr>\n",
       "    <tr>\n",
       "      <th>1</th>\n",
       "      <td>3</td>\n",
       "      <td>Agilent (A) Gears Up for Q2 Earnings: What's i...</td>\n",
       "      <td>http://www.zacks.com/stock/news/931205/agilent...</td>\n",
       "      <td>Zacks</td>\n",
       "      <td>2020-05-18 00:00:00</td>\n",
       "      <td>A</td>\n",
       "    </tr>\n",
       "    <tr>\n",
       "      <th>2</th>\n",
       "      <td>4</td>\n",
       "      <td>J.P. Morgan Asset Management Announces Liquida...</td>\n",
       "      <td>http://www.gurufocus.com/news/1138923/jp-morga...</td>\n",
       "      <td>GuruFocus</td>\n",
       "      <td>2020-05-15 00:00:00</td>\n",
       "      <td>A</td>\n",
       "    </tr>\n",
       "  </tbody>\n",
       "</table>\n",
       "</div>"
      ]
     },
     "execution_count": 29,
     "metadata": {},
     "output_type": "execute_result"
    }
   ],
   "execution_count": 29
  },
  {
   "metadata": {
    "ExecuteTime": {
     "end_time": "2025-10-07T21:31:08.955330Z",
     "start_time": "2025-10-07T21:31:05.328152Z"
    }
   },
   "cell_type": "code",
   "source": [
    "# Keep only the necessary columns\n",
    "news = news[['stock', 'date', 'headline']]\n",
    "\n",
    "# Drop missing values\n",
    "news = news.dropna(subset=['stock', 'date', 'headline'])\n",
    "\n",
    "# Convert date to proper datetime format\n",
    "news['date'] = pd.to_datetime(news['date'], errors='coerce')\n",
    "\n",
    "# Remove rows with invalid dates\n",
    "news = news.dropna(subset=['date'])\n",
    "\n",
    "# Standardize column names\n",
    "news.rename(columns={'stock': 'Ticker'}, inplace=True)\n",
    "\n",
    "print(\"Cleaned news shape:\", news.shape)\n",
    "print(news.head(3))"
   ],
   "id": "5db9337ff08dd3e0",
   "outputs": [
    {
     "name": "stdout",
     "output_type": "stream",
     "text": [
      "Cleaned news shape: (1845559, 3)\n",
      "  Ticker       date                                           headline\n",
      "0      A 2020-06-01  Agilent Technologies Announces Pricing of $5……...\n",
      "1      A 2020-05-18  Agilent (A) Gears Up for Q2 Earnings: What's i...\n",
      "2      A 2020-05-15  J.P. Morgan Asset Management Announces Liquida...\n"
     ]
    }
   ],
   "execution_count": 31
  },
  {
   "metadata": {
    "ExecuteTime": {
     "end_time": "2025-10-07T21:41:37.238004Z",
     "start_time": "2025-10-07T21:31:45.866627Z"
    }
   },
   "cell_type": "code",
   "source": [
    "#Compute sentiment scores\n",
    "from utils.sentiment import get_sentiment_score\n",
    "\n",
    "print(\"Calculating sentiment scores (this may take a few minutes)...\")\n",
    "\n",
    "news[\"sentiment\"] = news[\"headline\"].apply(get_sentiment_score)\n",
    "\n",
    "print(\"Example results:\")\n",
    "print(news.head(5)[[\"Ticker\", \"headline\", \"sentiment\"]])"
   ],
   "id": "205ba7acd8b9f343",
   "outputs": [
    {
     "name": "stdout",
     "output_type": "stream",
     "text": [
      "Calculating sentiment scores (this may take a few minutes)...\n",
      "Example results:\n",
      "  Ticker                                           headline  sentiment\n",
      "0      A  Agilent Technologies Announces Pricing of $5……...        0.0\n",
      "1      A  Agilent (A) Gears Up for Q2 Earnings: What's i...        0.0\n",
      "2      A  J.P. Morgan Asset Management Announces Liquida...        0.0\n",
      "3      A  Pershing Square Capital Management, L.P. Buys ...        0.0\n",
      "4      A  Agilent Awards Trilogy Sciences with a Golden ...        0.3\n"
     ]
    }
   ],
   "execution_count": 32
  },
  {
   "metadata": {
    "ExecuteTime": {
     "end_time": "2025-10-07T21:52:06.643420Z",
     "start_time": "2025-10-07T21:52:05.076551Z"
    }
   },
   "cell_type": "code",
   "source": [
    "#Aggregate Sentiment by Date and Ticker\n",
    "daily_sentiment = (\n",
    "    news.groupby([\"Ticker\", \"date\"])[\"sentiment\"]\n",
    "    .mean()\n",
    "    .reset_index()\n",
    ")\n",
    "\n",
    "print(\"Daily sentiment sample:\")\n",
    "print(daily_sentiment.head(10))"
   ],
   "id": "5df78e143c8fb34",
   "outputs": [
    {
     "name": "stdout",
     "output_type": "stream",
     "text": [
      "✅ Daily sentiment sample:\n",
      "  Ticker       date  sentiment\n",
      "0      A 2012-05-14   0.000000\n",
      "1      A 2012-05-15   0.000000\n",
      "2      A 2012-05-16   0.150000\n",
      "3      A 2012-05-17   0.022727\n",
      "4      A 2012-05-22   0.000000\n",
      "5      A 2012-05-30   0.136364\n",
      "6      A 2012-06-04   0.000000\n",
      "7      A 2012-06-08   0.000000\n",
      "8      A 2012-06-15   0.068182\n",
      "9      A 2012-06-19   0.000000\n"
     ]
    }
   ],
   "execution_count": 43
  },
  {
   "metadata": {
    "ExecuteTime": {
     "end_time": "2025-10-07T21:52:44.038400Z",
     "start_time": "2025-10-07T21:52:43.825966Z"
    }
   },
   "cell_type": "code",
   "source": [
    "# Remove invalid or default epoch dates\n",
    "daily_sentiment = daily_sentiment[daily_sentiment[\"date\"] > \"1970-01-01\"]\n",
    "\n",
    "print(\"🧹 Cleaned news date range:\",\n",
    "      daily_sentiment[\"date\"].min(), \"→\",\n",
    "      daily_sentiment[\"date\"].max())"
   ],
   "id": "843ef3f5a2b5683b",
   "outputs": [
    {
     "name": "stdout",
     "output_type": "stream",
     "text": [
      "🧹 Cleaned news date range: 2010-02-03 00:00:00 → 2020-06-04 00:00:00\n"
     ]
    }
   ],
   "execution_count": 44
  },
  {
   "metadata": {
    "ExecuteTime": {
     "end_time": "2025-10-07T21:54:34.599693Z",
     "start_time": "2025-10-07T21:54:34.202588Z"
    }
   },
   "cell_type": "code",
   "source": [
    "#Merge on Ticker + Date\n",
    "# Identify overlapping tickers\n",
    "price_tickers = set(prices[\"Ticker\"].unique())\n",
    "news_tickers = set(daily_sentiment[\"Ticker\"].unique())\n",
    "overlap_tickers = price_tickers.intersection(news_tickers)\n",
    "\n",
    "print(\"Number of tickers in prices:\", len(price_tickers))\n",
    "print(\"Number of tickers in news:\", len(news_tickers))\n",
    "print(\"Overlapping tickers:\", len(overlap_tickers))\n",
    "print(\"Example overlaps:\", list(overlap_tickers)[:10])\n",
    "\n",
    "# Filter prices for overlapping tickers and valid date range\n",
    "min_date = daily_sentiment[\"date\"].min()\n",
    "max_date = daily_sentiment[\"date\"].max()\n",
    "\n",
    "filtered_prices = prices[\n",
    "    (prices[\"Ticker\"].isin(overlap_tickers)) &\n",
    "    (prices[\"Date\"] >= min_date) &\n",
    "    (prices[\"Date\"] <= max_date)\n",
    "    ]\n",
    "\n",
    "print(\"Filtered prices shape:\", filtered_prices.shape)\n",
    "filtered_prices.head()\n"
   ],
   "id": "7a79cb9d4f9c0f2f",
   "outputs": [
    {
     "name": "stdout",
     "output_type": "stream",
     "text": [
      "Number of tickers in prices: 24\n",
      "Number of tickers in news: 6552\n",
      "Overlapping tickers: 7\n",
      "Example overlaps: ['AAXJ', 'AAPL', 'AAME', 'AAON', 'AADR', 'AAL', 'AAOI']\n",
      "Filtered prices shape: (11319, 3)\n"
     ]
    },
    {
     "data": {
      "text/plain": [
       "           Date Ticker      Close\n",
       "5436 2014-01-02   AADR  54.709999\n",
       "5437 2014-01-03   AADR  54.560001\n",
       "5438 2014-01-06   AADR  57.200001\n",
       "5439 2014-01-07   AADR  57.919998\n",
       "5440 2014-01-08   AADR  58.230000"
      ],
      "text/html": [
       "<div>\n",
       "<style scoped>\n",
       "    .dataframe tbody tr th:only-of-type {\n",
       "        vertical-align: middle;\n",
       "    }\n",
       "\n",
       "    .dataframe tbody tr th {\n",
       "        vertical-align: top;\n",
       "    }\n",
       "\n",
       "    .dataframe thead th {\n",
       "        text-align: right;\n",
       "    }\n",
       "</style>\n",
       "<table border=\"1\" class=\"dataframe\">\n",
       "  <thead>\n",
       "    <tr style=\"text-align: right;\">\n",
       "      <th></th>\n",
       "      <th>Date</th>\n",
       "      <th>Ticker</th>\n",
       "      <th>Close</th>\n",
       "    </tr>\n",
       "  </thead>\n",
       "  <tbody>\n",
       "    <tr>\n",
       "      <th>5436</th>\n",
       "      <td>2014-01-02</td>\n",
       "      <td>AADR</td>\n",
       "      <td>54.709999</td>\n",
       "    </tr>\n",
       "    <tr>\n",
       "      <th>5437</th>\n",
       "      <td>2014-01-03</td>\n",
       "      <td>AADR</td>\n",
       "      <td>54.560001</td>\n",
       "    </tr>\n",
       "    <tr>\n",
       "      <th>5438</th>\n",
       "      <td>2014-01-06</td>\n",
       "      <td>AADR</td>\n",
       "      <td>57.200001</td>\n",
       "    </tr>\n",
       "    <tr>\n",
       "      <th>5439</th>\n",
       "      <td>2014-01-07</td>\n",
       "      <td>AADR</td>\n",
       "      <td>57.919998</td>\n",
       "    </tr>\n",
       "    <tr>\n",
       "      <th>5440</th>\n",
       "      <td>2014-01-08</td>\n",
       "      <td>AADR</td>\n",
       "      <td>58.230000</td>\n",
       "    </tr>\n",
       "  </tbody>\n",
       "</table>\n",
       "</div>"
      ]
     },
     "execution_count": 45,
     "metadata": {},
     "output_type": "execute_result"
    }
   ],
   "execution_count": 45
  },
  {
   "metadata": {
    "ExecuteTime": {
     "end_time": "2025-10-07T21:55:14.942290Z",
     "start_time": "2025-10-07T21:55:13.943428Z"
    }
   },
   "cell_type": "code",
   "source": [
    "#Merge prices + sentiment\n",
    "merged = pd.merge(\n",
    "    filtered_prices,\n",
    "    daily_sentiment,\n",
    "    left_on=[\"Ticker\", \"Date\"],\n",
    "    right_on=[\"Ticker\", \"date\"],\n",
    "    how=\"left\"\n",
    ")\n",
    "\n",
    "# Drop redundant column\n",
    "merged.drop(columns=[\"date\"], inplace=True)\n",
    "\n",
    "print(\"Merged dataset shape:\", merged.shape)\n",
    "print(\"Sample merged rows:\")\n",
    "print(merged.head(10))\n"
   ],
   "id": "12e966d028e37314",
   "outputs": [
    {
     "name": "stdout",
     "output_type": "stream",
     "text": [
      "Merged dataset shape: (11319, 4)\n",
      "Sample merged rows:\n",
      "        Date Ticker      Close  sentiment\n",
      "0 2014-01-02   AADR  54.709999        NaN\n",
      "1 2014-01-03   AADR  54.560001        NaN\n",
      "2 2014-01-06   AADR  57.200001        NaN\n",
      "3 2014-01-07   AADR  57.919998        NaN\n",
      "4 2014-01-08   AADR  58.230000        NaN\n",
      "5 2014-01-09   AADR  57.220001        NaN\n",
      "6 2014-01-10   AADR  57.939999        NaN\n",
      "7 2014-01-13   AADR  55.910000        NaN\n",
      "8 2014-01-14   AADR  57.740002        NaN\n",
      "9 2014-01-15   AADR  57.599998        NaN\n"
     ]
    }
   ],
   "execution_count": 46
  },
  {
   "metadata": {
    "ExecuteTime": {
     "end_time": "2025-10-07T21:56:54.119708Z",
     "start_time": "2025-10-07T21:56:54.039211Z"
    }
   },
   "cell_type": "code",
   "source": [
    "print(\"Tickers with sentiment coverage:\")\n",
    "print(merged.loc[merged[\"sentiment\"].notna(), \"Ticker\"].unique())"
   ],
   "id": "176ccdb191eea3ea",
   "outputs": [
    {
     "name": "stdout",
     "output_type": "stream",
     "text": [
      "Tickers with sentiment coverage:\n",
      "['AADR' 'AAL' 'AAME' 'AAOI' 'AAON' 'AAPL' 'AAXJ']\n"
     ]
    }
   ],
   "execution_count": 47
  },
  {
   "metadata": {
    "ExecuteTime": {
     "end_time": "2025-10-07T22:02:17.510309Z",
     "start_time": "2025-10-07T22:02:17.427838Z"
    }
   },
   "cell_type": "code",
   "source": [
    "def compute_rsi(series: pd.Series, period: int = 14):\n",
    "    \"\"\"Relative Strength Index (RSI)\"\"\"\n",
    "    delta = series.diff()\n",
    "    gain = (delta.where(delta > 0, 0)).rolling(window=period).mean()\n",
    "    loss = (-delta.where(delta < 0, 0)).rolling(window=period).mean()\n",
    "    rs = gain / loss\n",
    "    return 100 - (100 / (1 + rs))\n",
    "\n",
    "def compute_macd(series: pd.Series, short=12, long=26):\n",
    "    \"\"\"MACD: difference between short and long EMA\"\"\"\n",
    "    ema_short = series.ewm(span=short, adjust=False).mean()\n",
    "    ema_long = series.ewm(span=long, adjust=False).mean()\n",
    "    return ema_short - ema_long\n",
    "\n",
    "def add_technical_indicators(df: pd.DataFrame):\n",
    "    \"\"\"\n",
    "    Add RSI, MACD, EMA(10), EMA(30), and EMA ratio for each ticker.\n",
    "    \"\"\"\n",
    "\n",
    "    df = df.copy()\n",
    "\n",
    "    # Ensure data is sorted\n",
    "    df.sort_values(by=[\"Ticker\", \"Date\"], inplace=True)\n",
    "\n",
    "    indicators = []\n",
    "    for ticker, group in df.groupby(\"Ticker\"):\n",
    "        group = group.copy()\n",
    "\n",
    "        group[\"rsi\"] = compute_rsi(group[\"Close\"])\n",
    "        group[\"macd\"] = compute_macd(group[\"Close\"])\n",
    "        group[\"ema_10\"] = group[\"Close\"].ewm(span=10, adjust=False).mean()\n",
    "        group[\"ema_30\"] = group[\"Close\"].ewm(span=30, adjust=False).mean()\n",
    "        group[\"ema_ratio\"] = group[\"ema_10\"] / group[\"ema_30\"]\n",
    "\n",
    "        indicators.append(group)\n",
    "\n",
    "    enriched_df = pd.concat(indicators, ignore_index=True)\n",
    "\n",
    "    # Fill NaNs (first few rows of indicators) with 0\n",
    "    enriched_df.fillna(0, inplace=True)\n",
    "\n",
    "    return enriched_df"
   ],
   "id": "3ba28cb57362f16d",
   "outputs": [],
   "execution_count": 50
  },
  {
   "metadata": {
    "ExecuteTime": {
     "end_time": "2025-10-07T22:07:01.319481Z",
     "start_time": "2025-10-07T22:07:01.118190Z"
    }
   },
   "cell_type": "code",
   "source": [
    "def compute_rsi(prices: pd.Series, period: int = 14):\n",
    "    \"\"\"Relative Strength Index\"\"\"\n",
    "    prices = pd.to_numeric(prices, errors=\"coerce\")\n",
    "    delta = prices.diff()\n",
    "    gain = delta.clip(lower=0)\n",
    "    loss = -delta.clip(upper=0)\n",
    "    avg_gain = gain.rolling(window=period, min_periods=period).mean()\n",
    "    avg_loss = loss.rolling(window=period, min_periods=period).mean()\n",
    "    rs = avg_gain / avg_loss\n",
    "    rsi = 100 - (100 / (1 + rs))\n",
    "    return rsi.fillna(0)\n",
    "\n",
    "\n",
    "def compute_macd(prices: pd.Series, short=12, long=26):\n",
    "    \"\"\"MACD (Moving Average Convergence Divergence)\"\"\"\n",
    "    prices = pd.to_numeric(prices, errors=\"coerce\")\n",
    "    ema_short = prices.ewm(span=short, adjust=False).mean()\n",
    "    ema_long = prices.ewm(span=long, adjust=False).mean()\n",
    "    macd = ema_short - ema_long\n",
    "    return macd.fillna(0)\n",
    "\n",
    "\n",
    "def add_technical_indicators(df: pd.DataFrame):\n",
    "    \"\"\"Add RSI, MACD, EMA10, EMA30, EMA ratio per ticker\"\"\"\n",
    "    df = df.copy()\n",
    "    df[\"Close\"] = pd.to_numeric(df[\"Close\"], errors=\"coerce\")\n",
    "    df.sort_values([\"Ticker\", \"Date\"], inplace=True)\n",
    "\n",
    "    result = []\n",
    "    for ticker, group in df.groupby(\"Ticker\"):\n",
    "        group = group.copy()\n",
    "        group[\"rsi\"] = compute_rsi(group[\"Close\"])\n",
    "        group[\"macd\"] = compute_macd(group[\"Close\"])\n",
    "        group[\"ema_10\"] = group[\"Close\"].ewm(span=10, adjust=False).mean()\n",
    "        group[\"ema_30\"] = group[\"Close\"].ewm(span=30, adjust=False).mean()\n",
    "        group[\"ema_ratio\"] = group[\"ema_10\"] / group[\"ema_30\"]\n",
    "        result.append(group)\n",
    "\n",
    "    enriched = pd.concat(result, ignore_index=True)\n",
    "    enriched.fillna(0, inplace=True)\n",
    "    return enriched\n",
    "\n",
    "\n",
    "# Apply indicator generation\n",
    "print(\"Computing technical indicators...\")\n",
    "merged[\"Close\"] = pd.to_numeric(merged[\"Close\"], errors=\"coerce\")\n",
    "enriched = add_technical_indicators(merged)\n",
    "\n",
    "print(\"Indicators added:\")\n",
    "print([col for col in enriched.columns if col not in [\"Date\", \"Ticker\", \"Close\", \"sentiment\"]])\n",
    "print(enriched.head(10))"
   ],
   "id": "dbd1f807e0a97ef5",
   "outputs": [
    {
     "name": "stdout",
     "output_type": "stream",
     "text": [
      "Computing technical indicators...\n",
      "Indicators added:\n",
      "['rsi', 'macd', 'ema_10', 'ema_30', 'ema_ratio']\n",
      "        Date Ticker      Close  sentiment  rsi      macd     ema_10  \\\n",
      "0 2014-01-02   AADR  54.709999        0.0  0.0  0.000000  54.709999   \n",
      "1 2014-01-03   AADR  54.560001        0.0  0.0 -0.011966  54.682727   \n",
      "2 2014-01-06   AADR  57.200001        0.0  0.0  0.189394  55.140413   \n",
      "3 2014-01-07   AADR  57.919998        0.0  0.0  0.402432  55.645792   \n",
      "4 2014-01-08   AADR  58.230000        0.0  0.0  0.589485  56.115648   \n",
      "5 2014-01-09   AADR  57.220001        0.0  0.0  0.648750  56.316439   \n",
      "6 2014-01-10   AADR  57.939999        0.0  0.0  0.745224  56.611632   \n",
      "7 2014-01-13   AADR  55.910000        0.0  0.0  0.650380  56.484063   \n",
      "8 2014-01-14   AADR  57.740002        0.0  0.0  0.714643  56.712415   \n",
      "9 2014-01-15   AADR  57.599998        0.0  0.0  0.745680  56.873794   \n",
      "\n",
      "      ema_30  ema_ratio  \n",
      "0  54.709999   1.000000  \n",
      "1  54.700322   0.999678  \n",
      "2  54.861591   1.005082  \n",
      "3  55.058908   1.010659  \n",
      "4  55.263495   1.015420  \n",
      "5  55.389721   1.016731  \n",
      "6  55.554255   1.019033  \n",
      "7  55.577206   1.016317  \n",
      "8  55.716741   1.017870  \n",
      "9  55.838242   1.018546  \n"
     ]
    }
   ],
   "execution_count": 53
  },
  {
   "metadata": {
    "ExecuteTime": {
     "end_time": "2025-10-07T22:07:20.638910Z",
     "start_time": "2025-10-07T22:07:20.157923Z"
    }
   },
   "cell_type": "code",
   "source": [
    "enriched.to_csv(\"../data/processed/final_dataset.csv\", index=False)\n",
    "print(\"Saved final enriched dataset to ../data/processed/final_dataset.csv\")"
   ],
   "id": "65b7c99d937ed99a",
   "outputs": [
    {
     "name": "stdout",
     "output_type": "stream",
     "text": [
      "Saved final enriched dataset to ../data/processed/final_dataset.csv\n"
     ]
    }
   ],
   "execution_count": 54
  },
  {
   "metadata": {},
   "cell_type": "code",
   "outputs": [],
   "execution_count": null,
   "source": "",
   "id": "ca85fbda8d52c108"
  }
 ],
 "metadata": {
  "kernelspec": {
   "display_name": "Python 3",
   "language": "python",
   "name": "python3"
  },
  "language_info": {
   "codemirror_mode": {
    "name": "ipython",
    "version": 2
   },
   "file_extension": ".py",
   "mimetype": "text/x-python",
   "name": "python",
   "nbconvert_exporter": "python",
   "pygments_lexer": "ipython2",
   "version": "2.7.6"
  }
 },
 "nbformat": 4,
 "nbformat_minor": 5
}
